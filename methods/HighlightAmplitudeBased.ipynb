{
 "cells": [
  {
   "cell_type": "code",
   "execution_count": 11,
   "metadata": {},
   "outputs": [],
   "source": [
    "#importing the libraries\n",
    "import moviepy.editor as mp\n",
    "import librosa\n",
    "import IPython.display as ipd\n",
    "import numpy as np\n",
    "import matplotlib.pyplot as plt\n",
    "import pandas as pd\n",
    "from moviepy.editor import VideoFileClip, concatenate_videoclips\n",
    "from moviepy.video.io.ffmpeg_tools import ffmpeg_extract_subclip"
   ]
  },
  {
   "cell_type": "markdown",
   "metadata": {},
   "source": [
    "###### Extract the audio"
   ]
  },
  {
   "cell_type": "code",
   "execution_count": 5,
   "metadata": {},
   "outputs": [
    {
     "name": "stdout",
     "output_type": "stream",
     "text": [
      "MoviePy - Writing audio in D:/MS_TUD/MMSR/TrainingData/data_extracted/videos/audio1.wav\n"
     ]
    },
    {
     "name": "stderr",
     "output_type": "stream",
     "text": [
      "                                                                                                                       \r"
     ]
    },
    {
     "name": "stdout",
     "output_type": "stream",
     "text": [
      "MoviePy - Done.\n"
     ]
    }
   ],
   "source": [
    "# AudioExtract.py --Comment out in case you want to convert the video into audio\n",
    "#clip = mp.VideoFileClip(\"D:/MS_TUD/MMSR/TrainingData/data_extracted/videos/training1.mp4\")\n",
    "#clip.audio.write_audiofile(\"D:/MS_TUD/MMSR/TrainingData/data_extracted/videos/audio1.wav\")"
   ]
  },
  {
   "cell_type": "markdown",
   "metadata": {},
   "source": [
    "###### Break the audio into chunks & Compute short-time energy of every chunk and plot it"
   ]
  },
  {
   "cell_type": "code",
   "execution_count": 22,
   "metadata": {},
   "outputs": [
    {
     "name": "stdout",
     "output_type": "stream",
     "text": [
      "826.7985786959953\n"
     ]
    },
    {
     "data": {
      "image/png": "[encoded data removed]",
      "text/plain": [
       "<Figure size 432x288 with 1 Axes>"
      ]
     },
     "metadata": {
      "needs_background": "light"
     },
     "output_type": "display_data"
    }
   ],
   "source": [
    "filename = \"D:/MS_TUD/MMSR/TrainingData/data_extracted/videos/audio1.wav\"\n",
    "\n",
    "x, sr = librosa.load(filename, sr=16000)\n",
    "int(librosa.get_duration(x, sr) / 60)\n",
    "\n",
    "# Create chunks for 50 secs\n",
    "max_slice = 50\n",
    "window_length = max_slice * sr\n",
    "a = x[21 * window_length:22 * window_length]\n",
    "ipd.Audio(a, rate=sr)\n",
    "\n",
    "# Calculate the energy\n",
    "energy = sum(abs(a ** 2))\n",
    "print(energy)\n",
    "\n",
    "# Calculate the energy for each chunk\n",
    "energy = np.array([sum(abs(x[i:i + window_length] ** 2)) for i in range(0, len(x), window_length)])\n",
    "\n",
    "# Plot the above thing\n",
    "plt.hist(energy)\n",
    "plt.show()"
   ]
  },
  {
   "cell_type": "markdown",
   "metadata": {},
   "source": [
    "###### Classify every chunk as excitement or not (based on a threshold value)"
   ]
  },
  {
   "cell_type": "code",
   "execution_count": 23,
   "metadata": {},
   "outputs": [
    {
     "name": "stdout",
     "output_type": "stream",
     "text": [
      "     energy start   end\n",
      "0    834.26    50   150\n",
      "2    842.71   550   700\n",
      "5   826.799  1050  1100\n",
      "6   1039.12  1400  1500\n",
      "8   945.059  1800  1850\n",
      "9   894.692  2050  2100\n",
      "10  1026.27  2250  2350\n",
      "12  950.539  2550  2600\n",
      "13  925.981  2950  3050\n",
      "15  1059.71  3200  3300\n",
      "17  1358.07  3900  3950\n"
     ]
    }
   ],
   "source": [
    "# Create a df for energy data\n",
    "df = pd.DataFrame(columns=['energy', 'start', 'end'])\n",
    "thresh = 800\n",
    "row_index = 0\n",
    "for i in range(len(energy)):\n",
    "    value = energy[i]\n",
    "    if value >= thresh:\n",
    "        i = np.where(energy == value)[0]\n",
    "        df.loc[row_index, 'energy'] = value\n",
    "        df.loc[row_index, 'start'] = i[0] * 50\n",
    "        df.loc[row_index, 'end'] = (i[0] + 1) * 50\n",
    "        row_index = row_index + 1\n",
    "\n",
    "# create the excitement snippet\n",
    "temp = []\n",
    "i = 0\n",
    "j = 0\n",
    "n = len(df) - 2\n",
    "m = len(df) - 1\n",
    "while (i <= n):\n",
    "    j = i + 1\n",
    "    while (j <= m):\n",
    "        if (df['end'][i] == df['start'][j]):\n",
    "            df.loc[i, 'end'] = df.loc[j, 'end']\n",
    "            temp.append(j)\n",
    "            j = j + 1\n",
    "        else:\n",
    "            i = j\n",
    "            break\n",
    "df.drop(temp, axis=0, inplace=True)\n",
    "print(df)\n"
   ]
  },
  {
   "cell_type": "markdown",
   "metadata": {},
   "source": [
    "###### Merge all the excitement-clips to form the video highlights"
   ]
  },
  {
   "cell_type": "code",
   "execution_count": 24,
   "metadata": {},
   "outputs": [
    {
     "name": "stdout",
     "output_type": "stream",
     "text": [
      "Moviepy - Running:\n",
      ">>> \"+ \" \".join(cmd)\n",
      "Moviepy - Command successful\n",
      "Moviepy - Running:\n",
      ">>> \"+ \" \".join(cmd)\n",
      "Moviepy - Command successful\n",
      "Moviepy - Running:\n",
      ">>> \"+ \" \".join(cmd)\n",
      "Moviepy - Command successful\n",
      "Moviepy - Running:\n",
      ">>> \"+ \" \".join(cmd)\n",
      "Moviepy - Command successful\n",
      "Moviepy - Running:\n",
      ">>> \"+ \" \".join(cmd)\n",
      "Moviepy - Command successful\n",
      "Moviepy - Running:\n",
      ">>> \"+ \" \".join(cmd)\n",
      "Moviepy - Command successful\n",
      "Moviepy - Running:\n",
      ">>> \"+ \" \".join(cmd)\n",
      "Moviepy - Command successful\n",
      "Moviepy - Running:\n",
      ">>> \"+ \" \".join(cmd)\n",
      "Moviepy - Command successful\n",
      "Moviepy - Running:\n",
      ">>> \"+ \" \".join(cmd)\n",
      "Moviepy - Command successful\n",
      "Moviepy - Running:\n",
      ">>> \"+ \" \".join(cmd)\n",
      "Moviepy - Command successful\n",
      "Moviepy - Running:\n",
      ">>> \"+ \" \".join(cmd)\n",
      "Moviepy - Command successful\n"
     ]
    }
   ],
   "source": [
    "start = np.array(df['start'])\n",
    "end = np.array(df['end'])\n",
    "for i in range(len(df)):\n",
    "    if i != 0:\n",
    "        start_lim = start[i] - 50\n",
    "    else:\n",
    "        start_lim = start[i]\n",
    "    end_lim = end[i]\n",
    "    filename = \"training_highlight\" + str(i + 1) + \".mp4\"\n",
    "    ffmpeg_extract_subclip(\"D:/MS_TUD/MMSR/TrainingData/data_extracted/videos/training1.mp4\", start_lim, end_lim, targetname=filename)"
   ]
  },
  {
   "cell_type": "code",
   "execution_count": 25,
   "metadata": {},
   "outputs": [
    {
     "name": "stdout",
     "output_type": "stream",
     "text": [
      "Moviepy - Building video D:/MS_TUD/MMSR/TrainingData/data_extracted/videos/training1_finalHighlight.mp4.\n",
      "MoviePy - Writing audio in training1_finalHighlightTEMP_MPY_wvf_snd.mp3\n"
     ]
    },
    {
     "name": "stderr",
     "output_type": "stream",
     "text": [
      "                                                                                                                       \r"
     ]
    },
    {
     "name": "stdout",
     "output_type": "stream",
     "text": [
      "MoviePy - Done.\n",
      "Moviepy - Writing video D:/MS_TUD/MMSR/TrainingData/data_extracted/videos/training1_finalHighlight.mp4\n",
      "\n"
     ]
    },
    {
     "name": "stderr",
     "output_type": "stream",
     "text": [
      "                                                                                                                       \r"
     ]
    },
    {
     "name": "stdout",
     "output_type": "stream",
     "text": [
      "Moviepy - Done !\n",
      "Moviepy - video ready D:/MS_TUD/MMSR/TrainingData/data_extracted/videos/training1_finalHighlight.mp4\n"
     ]
    }
   ],
   "source": [
    "clip1 = VideoFileClip(\"C:/Users/shipr/training_highlight1.mp4\")\n",
    "clip2 = VideoFileClip(\"C:/Users/shipr/training_highlight2.mp4\")\n",
    "clip3 = VideoFileClip(\"C:/Users/shipr/training_highlight3.mp4\")\n",
    "clip4 = VideoFileClip(\"C:/Users/shipr/training_highlight4.mp4\")\n",
    "clip5 = VideoFileClip(\"C:/Users/shipr/training_highlight5.mp4\")\n",
    "clip6 = VideoFileClip(\"C:/Users/shipr/training_highlight6.mp4\")\n",
    "clip7 = VideoFileClip(\"C:/Users/shipr/training_highlight7.mp4\")\n",
    "clip8 = VideoFileClip(\"C:/Users/shipr/training_highlight8.mp4\")\n",
    "clip9 = VideoFileClip(\"C:/Users/shipr/training_highlight9.mp4\")\n",
    "clip10 = VideoFileClip(\"C:/Users/shipr/training_highlight10.mp4\")\n",
    "clip11 = VideoFileClip(\"C:/Users/shipr/training_highlight11.mp4\")\n",
    "\n",
    "final_clip = concatenate_videoclips([clip1,clip2,clip3,clip4,clip5,clip6,clip7,clip8,clip9,clip10,clip11])\n",
    "\n",
    "final_clip.write_videofile(\"D:/MS_TUD/MMSR/TrainingData/data_extracted/videos/training1_finalHighlight.mp4\")\n"
   ]
  }
 ],
 "metadata": {
  "kernelspec": {
   "display_name": "Python 3",
   "language": "python",
   "name": "python3"
  },
  "language_info": {
   "codemirror_mode": {
    "name": "ipython",
    "version": 3
   },
   "file_extension": ".py",
   "mimetype": "text/x-python",
   "name": "python",
   "nbconvert_exporter": "python",
   "pygments_lexer": "ipython3",
   "version": "3.7.4"
  }
 },
 "nbformat": 4,
 "nbformat_minor": 2
}
