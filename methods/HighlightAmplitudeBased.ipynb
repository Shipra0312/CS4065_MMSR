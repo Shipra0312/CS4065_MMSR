{
 "cells": [
  {
   "cell_type": "code",
   "execution_count": 2,
   "metadata": {},
   "outputs": [],
   "source": [
    "#importing the libraries\n",
    "import moviepy.editor as mp\n",
    "import librosa\n",
    "import IPython.display as ipd\n",
    "import numpy as np\n",
    "import matplotlib.pyplot as plt\n",
    "import pandas as pd\n",
    "from moviepy.editor import VideoFileClip, concatenate_videoclips\n",
    "from moviepy.video.io.ffmpeg_tools import ffmpeg_extract_subclip"
   ]
  },
  {
   "cell_type": "code",
   "execution_count": 3,
   "metadata": {},
   "outputs": [],
   "source": [
    "# Extracting the audio from the video clip\n",
    "# AudioExtract.py --Comment out in case you want to convert the video into audio\n",
    "#clip = mp.VideoFileClip(\"D:/MS_TUD/MMSR/TrainingData/data_extracted/videos/training1.mp4\")\n",
    "#clip.audio.write_audiofile(\"D:/MS_TUD/MMSR/TrainingData/data_extracted/videos/audio1.wav\")"
   ]
  },
  {
   "cell_type": "code",
   "execution_count": 5,
   "metadata": {},
   "outputs": [
    {
     "name": "stdout",
     "output_type": "stream",
     "text": [
      "513.2066215792697\n"
     ]
    }
   ],
   "source": [
    "# P.S. It takes a lot of time to execute as there are a lot of chunks created due to 30 second window\n",
    "\n",
    "audio_file = \"D:/MS_TUD/MMSR/TrainingData/data_extracted/videos/audio1.wav\"\n",
    "\n",
    "z, sample_rate = librosa.load(audio_file, sr = 16000)\n",
    "int(librosa.get_duration(z, sample_rate) / 60)\n",
    "\n",
    "# Create chunks for 30 secs\n",
    "time_slice = 30\n",
    "window_length = time_slice * sample_rate\n",
    "amplitude = z [21 * window_length : 22 * window_length]\n",
    "ipd.Audio(amplitude, rate = sample_rate)\n",
    "\n",
    "# Calculate the energy\n",
    "energy = sum(abs(amplitude ** 2))\n",
    "print(energy)\n",
    "\n",
    "# Calculate the energy for each chunk\n",
    "energy = np.array([sum(abs(z[i:i + window_length] ** 2)) for i in range(0, len(z), window_length)])"
   ]
  },
  {
   "cell_type": "code",
   "execution_count": 6,
   "metadata": {},
   "outputs": [
    {
     "data": {
      "image/png": "[encoded data removed]",
      "text/plain": [
       "<Figure size 432x288 with 1 Axes>"
      ]
     },
     "metadata": {
      "needs_background": "light"
     },
     "output_type": "display_data"
    }
   ],
   "source": [
    "#plot energy based on amplitude of the audio file\n",
    "plt.plot(energy, label='energy')\n",
    "plt.legend()\n",
    "plt.show()"
   ]
  },
  {
   "cell_type": "code",
   "execution_count": 8,
   "metadata": {},
   "outputs": [
    {
     "name": "stdout",
     "output_type": "stream",
     "text": [
      "   Energy_Value Start_time End_time\n",
      "0       790.962       1410     1500\n",
      "3       609.151       1650     1680\n",
      "4       658.806       1740     1770\n",
      "5       722.347       1800     1830\n",
      "6       642.954       2070     2100\n",
      "7       579.154       2220     2250\n",
      "8       874.289       2280     2310\n",
      "9       597.352       2520     2550\n",
      "10      643.172       2580     2610\n",
      "11      579.677       2820     2850\n",
      "12       560.36       2910     2940\n",
      "13      727.736       2970     3000\n",
      "14      874.896       3030     3060\n",
      "15      721.962       3210     3270\n",
      "17      879.846       3900     3960\n"
     ]
    }
   ],
   "source": [
    "# Create a dataframe for energy data\n",
    "energy_data = pd.DataFrame(columns=['Energy_Value', 'Start_time', 'End_time'])\n",
    "\n",
    "# decide threshold based on the plot mentioned above. In our case it's somewhere above 500\n",
    "threshold = 540\n",
    "row_index = 0\n",
    "\n",
    "for i in range(len(energy)):\n",
    "    value = energy[i]\n",
    "    if value >= threshold:\n",
    "        i = np.where(energy == value)[0]\n",
    "        energy_data.loc[row_index, 'Energy_Value'] = value\n",
    "        energy_data.loc[row_index, 'Start_time'] = i[0] * 30\n",
    "        energy_data.loc[row_index, 'End_time'] = (i[0] + 1) * 30\n",
    "        row_index = row_index + 1\n",
    "\n",
    "# create the excitement snippet\n",
    "temp = []\n",
    "k = 0\n",
    "l= 0\n",
    "q = len(energy_data) - 2\n",
    "r = len(energy_data) - 1\n",
    "while (k <= q):\n",
    "    l = k + 1\n",
    "    while (l <= r):\n",
    "        if (energy_data['End_time'][k] == energy_data['Start_time'][l]):\n",
    "            energy_data.loc[k, 'End_time'] = energy_data.loc[l, 'End_time']\n",
    "            temp.append(l)\n",
    "            l = l + 1\n",
    "        else:\n",
    "            k = l\n",
    "            break\n",
    "energy_data.drop(temp, axis=0, inplace=True)\n",
    "print(energy_data)\n"
   ]
  },
  {
   "cell_type": "code",
   "execution_count": 9,
   "metadata": {},
   "outputs": [
    {
     "name": "stdout",
     "output_type": "stream",
     "text": [
      "Moviepy - Running:\n",
      ">>> \"+ \" \".join(cmd)\n",
      "Moviepy - Command successful\n",
      "Moviepy - Running:\n",
      ">>> \"+ \" \".join(cmd)\n",
      "Moviepy - Command successful\n",
      "Moviepy - Running:\n",
      ">>> \"+ \" \".join(cmd)\n",
      "Moviepy - Command successful\n",
      "Moviepy - Running:\n",
      ">>> \"+ \" \".join(cmd)\n",
      "Moviepy - Command successful\n",
      "Moviepy - Running:\n",
      ">>> \"+ \" \".join(cmd)\n",
      "Moviepy - Command successful\n",
      "Moviepy - Running:\n",
      ">>> \"+ \" \".join(cmd)\n",
      "Moviepy - Command successful\n",
      "Moviepy - Running:\n",
      ">>> \"+ \" \".join(cmd)\n",
      "Moviepy - Command successful\n",
      "Moviepy - Running:\n",
      ">>> \"+ \" \".join(cmd)\n",
      "Moviepy - Command successful\n",
      "Moviepy - Running:\n",
      ">>> \"+ \" \".join(cmd)\n",
      "Moviepy - Command successful\n",
      "Moviepy - Running:\n",
      ">>> \"+ \" \".join(cmd)\n",
      "Moviepy - Command successful\n",
      "Moviepy - Running:\n",
      ">>> \"+ \" \".join(cmd)\n",
      "Moviepy - Command successful\n",
      "Moviepy - Running:\n",
      ">>> \"+ \" \".join(cmd)\n",
      "Moviepy - Command successful\n",
      "Moviepy - Running:\n",
      ">>> \"+ \" \".join(cmd)\n",
      "Moviepy - Command successful\n",
      "Moviepy - Running:\n",
      ">>> \"+ \" \".join(cmd)\n",
      "Moviepy - Command successful\n",
      "Moviepy - Running:\n",
      ">>> \"+ \" \".join(cmd)\n",
      "Moviepy - Command successful\n"
     ]
    }
   ],
   "source": [
    "start_highlight = np.array(energy_data['Start_time'])\n",
    "end_highlight = np.array(energy_data['End_time'])\n",
    "for i in range(len(energy_data)):\n",
    "    if i != 0:\n",
    "        start_lim = start_highlight[i] - 50\n",
    "    else:\n",
    "        start_lim = start_highlight[i]\n",
    "    end_lim = end_highlight[i]\n",
    "    filename = \"training_highlight\" + str(i + 1) + \".mp4\"\n",
    "    ffmpeg_extract_subclip(\"D:/MS_TUD/MMSR/TrainingData/data_extracted/videos/training1.mp4\", start_lim, end_lim, targetname=filename)"
   ]
  },
  {
   "cell_type": "code",
   "execution_count": 10,
   "metadata": {},
   "outputs": [
    {
     "name": "stdout",
     "output_type": "stream",
     "text": [
      "Moviepy - Building video D:/MS_TUD/MMSR/TrainingData/data_extracted/videos/training1_amplitudeHighlight.mp4.\n",
      "MoviePy - Writing audio in training1_amplitudeHighlightTEMP_MPY_wvf_snd.mp3\n"
     ]
    },
    {
     "name": "stderr",
     "output_type": "stream",
     "text": [
      "                                                                                                                       \r"
     ]
    },
    {
     "name": "stdout",
     "output_type": "stream",
     "text": [
      "MoviePy - Done.\n",
      "Moviepy - Writing video D:/MS_TUD/MMSR/TrainingData/data_extracted/videos/training1_amplitudeHighlight.mp4\n",
      "\n"
     ]
    },
    {
     "name": "stderr",
     "output_type": "stream",
     "text": [
      "                                                                                                                       \r"
     ]
    },
    {
     "name": "stdout",
     "output_type": "stream",
     "text": [
      "Moviepy - Done !\n",
      "Moviepy - video ready D:/MS_TUD/MMSR/TrainingData/data_extracted/videos/training1_amplitudeHighlight.mp4\n"
     ]
    }
   ],
   "source": [
    "clip1 = VideoFileClip(\"C:/Users/shipr/training_highlight1.mp4\")\n",
    "clip2 = VideoFileClip(\"C:/Users/shipr/training_highlight2.mp4\")\n",
    "clip3 = VideoFileClip(\"C:/Users/shipr/training_highlight3.mp4\")\n",
    "clip4 = VideoFileClip(\"C:/Users/shipr/training_highlight4.mp4\")\n",
    "clip5 = VideoFileClip(\"C:/Users/shipr/training_highlight5.mp4\")\n",
    "clip6 = VideoFileClip(\"C:/Users/shipr/training_highlight6.mp4\")\n",
    "clip7 = VideoFileClip(\"C:/Users/shipr/training_highlight7.mp4\")\n",
    "clip8 = VideoFileClip(\"C:/Users/shipr/training_highlight8.mp4\")\n",
    "clip9 = VideoFileClip(\"C:/Users/shipr/training_highlight9.mp4\")\n",
    "clip10 = VideoFileClip(\"C:/Users/shipr/training_highlight10.mp4\")\n",
    "clip11 = VideoFileClip(\"C:/Users/shipr/training_highlight11.mp4\")\n",
    "clip12 = VideoFileClip(\"C:/Users/shipr/training_highlight12.mp4\")\n",
    "clip13 = VideoFileClip(\"C:/Users/shipr/training_highlight13.mp4\")\n",
    "clip14 = VideoFileClip(\"C:/Users/shipr/training_highlight14.mp4\")\n",
    "clip15 = VideoFileClip(\"C:/Users/shipr/training_highlight15.mp4\")\n",
    "\n",
    "final_clip = concatenate_videoclips([clip1,clip2,clip3,clip4,clip5,clip6,clip7,clip8,clip9,clip10,clip11,clip12,clip13,clip14,clip15])\n",
    "\n",
    "final_clip.write_videofile(\"D:/MS_TUD/MMSR/TrainingData/data_extracted/videos/training1_amplitudeHighlight.mp4\")\n"
   ]
  }
 ],
 "metadata": {
  "kernelspec": {
   "display_name": "Python 3",
   "language": "python",
   "name": "python3"
  },
  "language_info": {
   "codemirror_mode": {
    "name": "ipython",
    "version": 3
   },
   "file_extension": ".py",
   "mimetype": "text/x-python",
   "name": "python",
   "nbconvert_exporter": "python",
   "pygments_lexer": "ipython3",
   "version": "3.7.4"
  }
 },
 "nbformat": 4,
 "nbformat_minor": 2
}
