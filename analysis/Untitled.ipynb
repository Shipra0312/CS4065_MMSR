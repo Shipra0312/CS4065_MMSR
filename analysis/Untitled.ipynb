{
 "cells": [
  {
   "cell_type": "code",
   "execution_count": 74,
   "metadata": {},
   "outputs": [],
   "source": [
    "import cv2\n",
    "import numpy as np\n",
    "import matplotlib.pyplot as plt\n",
    "\n",
    "vidcap = cv2.VideoCapture(\"../data_extracted/videos/training1.mp4\")\n",
    "\n",
    "fps = int(vidcap.get(cv2.CAP_PROP_FPS))\n",
    "frameCount = int(vidcap.get(cv2.CAP_PROP_FRAME_COUNT))\n",
    "frameWidth = int(vidcap.get(cv2.CAP_PROP_FRAME_WIDTH))\n",
    "frameHeight = int(vidcap.get(cv2.CAP_PROP_FRAME_HEIGHT))"
   ]
  },
  {
   "cell_type": "code",
   "execution_count": 76,
   "metadata": {},
   "outputs": [],
   "source": [
    "previous_histogram = None\n",
    "\n",
    "\n",
    "count = 0\n",
    "success = True\n",
    "frame_index = 0\n",
    "scores = []\n",
    "\n",
    "def extract_timestamp(prev_hist, cur_hist, threshold, method, frame_numb):\n",
    "#     score = cv2.compareHist(prev_hist, cur_hist, method)\n",
    "\n",
    "#     threshold_asses = False\n",
    "#     timestamp = None\n",
    "#     if method is cv2.HISTCMP_CHISQR:\n",
    "#         threshold_asses = score > threshold\n",
    "#         timestamp = int(frame_numb/fps)\n",
    "    \n",
    "#     if method is cv2.HISTCMP_CORREL:\n",
    "#         threshold_asses = score < threshold\n",
    "#         timestamp = int(frame_numb / fps)\n",
    "    \n",
    "#     return threshold_asses, timestamp\n",
    "    score = cv2.compareHist(prev_hist, cur_hist, method)\n",
    "    return score\n",
    "\n",
    "chuncksize = 5\n",
    "\n",
    "while success:\n",
    "    frame_index += 1\n",
    "\n",
    "    success, image = vidcap.read()\n",
    "    if count != (chuncksize * fps):\n",
    "        count += 1\n",
    "    elif frame_index > frameCount:\n",
    "        break\n",
    "    else:\n",
    "        count = 0\n",
    "\n",
    "        image = cv2.cvtColor(image, cv2.COLOR_BGR2GRAY)\n",
    "\n",
    "        histogram = cv2.calcHist([image], [0], None, [256], [0, 256])\n",
    "\n",
    "        if previous_histogram is None:\n",
    "            previous_histogram = histogram\n",
    "            count += 1\n",
    "            continue\n",
    "\n",
    "        score = cv2.compareHist(previous_histogram, histogram, cv2.HISTCMP_CHISQR)\n",
    "\n",
    "        scores.append(score)\n",
    "\n",
    "        previous_histogram = histogram\n",
    "\n",
    "        if cv2.waitKey(10) == 27:  # exit if Escape is hit\n",
    "            break"
   ]
  },
  {
   "cell_type": "code",
   "execution_count": 77,
   "metadata": {},
   "outputs": [
    {
     "data": {
      "text/plain": [
       "(800, 237216, 237125)"
      ]
     },
     "execution_count": 77,
     "metadata": {},
     "output_type": "execute_result"
    }
   ],
   "source": [
    "len(scores), frameCount, frame_index"
   ]
  },
  {
   "cell_type": "code",
   "execution_count": 70,
   "metadata": {},
   "outputs": [
    {
     "data": {
      "text/plain": [
       "[<matplotlib.lines.Line2D at 0x1a07e9e8>]"
      ]
     },
     "execution_count": 70,
     "metadata": {},
     "output_type": "execute_result"
    },
    {
     "data": {
      "image/png": "[encoded data removed]",
      "text/plain": [
       "<Figure size 432x288 with 1 Axes>"
      ]
     },
     "metadata": {
      "needs_background": "light"
     },
     "output_type": "display_data"
    }
   ],
   "source": [
    "import pandas as pd\n",
    "from scipy import stats\n",
    "\n",
    "\n",
    "scores_serie = pd.Series(scores)\n",
    "z_score = stats.zscore(scores_serie)\n",
    "fitted = scores_serie.loc[np.abs(z_score)<=3]\n",
    "plt.plot(fitted)"
   ]
  },
  {
   "cell_type": "code",
   "execution_count": 71,
   "metadata": {},
   "outputs": [
    {
     "data": {
      "text/plain": [
       "(3951, 3948)"
      ]
     },
     "execution_count": 71,
     "metadata": {},
     "output_type": "execute_result"
    }
   ],
   "source": [
    "len(scores), len(fitted)"
   ]
  },
  {
   "cell_type": "code",
   "execution_count": 109,
   "metadata": {},
   "outputs": [],
   "source": [
    "metadata = pd.read_csv(\"../data_raw/metadata.csv\")\n",
    "highlights = metadata[(metadata[\"type\"] == \"highlight\") & (metadata[\"perspective\"]==\"P11\")]\n",
    "h_df = highlights[highlights[\"match_id\"]==1]"
   ]
  },
  {
   "cell_type": "code",
   "execution_count": 89,
   "metadata": {},
   "outputs": [],
   "source": [
    "start_steam_time = metadata[(metadata[\"match_id\"]==1) & (metadata[\"perspective\"]==\"P11\") & (metadata[\"type\"]==\"match\")][\"stream_timestamp\"]"
   ]
  },
  {
   "cell_type": "code",
   "execution_count": 98,
   "metadata": {},
   "outputs": [],
   "source": [
    "from datetime import datetime\n",
    "template = \"%H:%M:%S\"\n",
    "start_time = datetime.strptime(start_steam_time.values[0], template)"
   ]
  },
  {
   "cell_type": "code",
   "execution_count": 108,
   "metadata": {},
   "outputs": [
    {
     "data": {
      "text/plain": [
       "datetime.datetime(1900, 1, 1, 0, 41, 26)"
      ]
     },
     "execution_count": 108,
     "metadata": {},
     "output_type": "execute_result"
    }
   ],
   "source": [
    "start_time"
   ]
  },
  {
   "cell_type": "code",
   "execution_count": 111,
   "metadata": {},
   "outputs": [
    {
     "data": {
      "text/html": [
       "<div>\n",
       "<style scoped>\n",
       "    .dataframe tbody tr th:only-of-type {\n",
       "        vertical-align: middle;\n",
       "    }\n",
       "\n",
       "    .dataframe tbody tr th {\n",
       "        vertical-align: top;\n",
       "    }\n",
       "\n",
       "    .dataframe thead th {\n",
       "        text-align: right;\n",
       "    }\n",
       "</style>\n",
       "<table border=\"1\" class=\"dataframe\">\n",
       "  <thead>\n",
       "    <tr style=\"text-align: right;\">\n",
       "      <th></th>\n",
       "      <th>duration</th>\n",
       "      <th>stream_timestamp</th>\n",
       "    </tr>\n",
       "  </thead>\n",
       "  <tbody>\n",
       "    <tr>\n",
       "      <th>12</th>\n",
       "      <td>60</td>\n",
       "      <td>01:19:24</td>\n",
       "    </tr>\n",
       "    <tr>\n",
       "      <th>13</th>\n",
       "      <td>45</td>\n",
       "      <td>01:23:32</td>\n",
       "    </tr>\n",
       "    <tr>\n",
       "      <th>14</th>\n",
       "      <td>81</td>\n",
       "      <td>01:45:54</td>\n",
       "    </tr>\n",
       "  </tbody>\n",
       "</table>\n",
       "</div>"
      ],
      "text/plain": [
       "    duration stream_timestamp\n",
       "12        60         01:19:24\n",
       "13        45         01:23:32\n",
       "14        81         01:45:54"
      ]
     },
     "execution_count": 111,
     "metadata": {},
     "output_type": "execute_result"
    }
   ],
   "source": [
    "h_df[[\"duration\",\"stream_timestamp\"]]"
   ]
  },
  {
   "cell_type": "code",
   "execution_count": 112,
   "metadata": {},
   "outputs": [],
   "source": [
    "timestamps = []\n",
    "for i in range(3):\n",
    "    timestamp = datetime.strptime(h_df[\"stream_timestamp\"].values[i], template) - start_time\n",
    "    timestamps.append(timestamp)"
   ]
  },
  {
   "cell_type": "code",
   "execution_count": 113,
   "metadata": {},
   "outputs": [
    {
     "data": {
      "text/plain": [
       "[datetime.timedelta(seconds=2278),\n",
       " datetime.timedelta(seconds=2526),\n",
       " datetime.timedelta(seconds=3868)]"
      ]
     },
     "execution_count": 113,
     "metadata": {},
     "output_type": "execute_result"
    }
   ],
   "source": [
    "timestamps"
   ]
  },
  {
   "cell_type": "code",
   "execution_count": 122,
   "metadata": {},
   "outputs": [
    {
     "data": {
      "image/png": "[encoded data removed]",
      "text/plain": [
       "<Figure size 432x288 with 1 Axes>"
      ]
     },
     "metadata": {
      "needs_background": "light"
     },
     "output_type": "display_data"
    }
   ],
   "source": [
    "import matplotlib.pylab\n",
    "# random data generation\n",
    "y = np.random.random(100)*100 \n",
    "y =scores\n",
    "\n",
    "# for i in range(100):\n",
    "#     y[i]=y[i]+i**((150-i)/80.0) # modifies the trend\n",
    "beta = [2]\n",
    "def smooth(x,beta):\n",
    "    \"\"\" kaiser window smoothing \"\"\"\n",
    "    window_len=11\n",
    "    # extending the data at beginning and at the end\n",
    "    # to apply the window at the borders\n",
    "    s = np.r_[x[window_len-1:0:-1],x,x[-1:-window_len:-1]]\n",
    "    w = np.kaiser(window_len,beta)\n",
    "    y = np.convolve(w/w.sum(),s,mode='valid')\n",
    "    return y[5:len(y)-5]\n",
    "\n",
    "# smoothing the data\n",
    "plt.figure(1)\n",
    "plt.plot(y,'-k',label=\"original signal\",alpha=.3)\n",
    "for b in beta:\n",
    "    yy = smooth(y,b) \n",
    "    plt.plot(yy,label=\"filtered (beta = \"+str(b)+\")\")\n",
    "plt.legend()\n",
    "plt.show()"
   ]
  },
  {
   "cell_type": "code",
   "execution_count": null,
   "metadata": {},
   "outputs": [],
   "source": []
  }
 ],
 "metadata": {
  "kernelspec": {
   "display_name": "Python 3",
   "language": "python",
   "name": "python3"
  },
  "language_info": {
   "codemirror_mode": {
    "name": "ipython",
    "version": 3
   },
   "file_extension": ".py",
   "mimetype": "text/x-python",
   "name": "python",
   "nbconvert_exporter": "python",
   "pygments_lexer": "ipython3",
   "version": "3.7.3"
  }
 },
 "nbformat": 4,
 "nbformat_minor": 2
}
